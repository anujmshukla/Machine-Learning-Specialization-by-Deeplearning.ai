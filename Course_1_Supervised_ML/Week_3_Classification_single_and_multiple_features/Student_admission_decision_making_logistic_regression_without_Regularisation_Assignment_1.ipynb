{
 "cells": [
  {
   "cell_type": "markdown",
   "id": "7e84ea77",
   "metadata": {},
   "source": [
    "# <b> <font color=\"blue\" size=\"40\"> Logistic Regression </font> </b>"
   ]
  },
  {
   "cell_type": "markdown",
   "id": "9b6a1f5d",
   "metadata": {},
   "source": [
    "## <font color=blue> Student admission decision making via logistic regression without regularisation </font>"
   ]
  },
  {
   "cell_type": "code",
   "execution_count": 1,
   "id": "d77150e5",
   "metadata": {},
   "outputs": [],
   "source": [
    "import numpy as np\n",
    "import matplotlib.pyplot as plt\n",
    "import sys\n",
    "sys.path.append('Material_By_DeepLearning')\n",
    "from utils import *\n",
    "import copy\n",
    "import math\n",
    "\n",
    "%matplotlib inline"
   ]
  },
  {
   "cell_type": "markdown",
   "id": "7f8cb219",
   "metadata": {},
   "source": [
    "### 2.1 Problem Statement\n",
    "\n",
    "Suppose that you are the administrator of a university department and you want to determine each applicant’s chance of admission based on their results on two exams. \n",
    "* You have historical data from previous applicants that you can use as a training set for logistic regression. \n",
    "* For each training example, you have the applicant’s scores on two exams and the admissions decision. \n",
    "* Your task is to build a classification model that estimates an applicant’s probability of admission based on the scores from those two exams. "
   ]
  },
  {
   "cell_type": "markdown",
   "id": "499d7472",
   "metadata": {},
   "source": [
    "### Loading data"
   ]
  },
  {
   "cell_type": "code",
   "execution_count": 2,
   "id": "a22913b1",
   "metadata": {},
   "outputs": [],
   "source": [
    "data = np.loadtxt('data/ex2data1.txt',delimiter=\",\")\n",
    "# print(data)\n",
    "x_train = data[:,:2]\n",
    "y_train = data[:,2]\n",
    "\n",
    "# print(x_train)\n",
    "# print(y_train)\n"
   ]
  },
  {
   "cell_type": "markdown",
   "id": "e3e53df2",
   "metadata": {},
   "source": [
    "### Let's plot the data"
   ]
  },
  {
   "cell_type": "code",
   "execution_count": 3,
   "id": "9e1a56c1",
   "metadata": {},
   "outputs": [
    {
     "data": {
      "image/png": "[encoded data removed]",
      "text/plain": [
       "<Figure size 640x480 with 1 Axes>"
      ]
     },
     "metadata": {},
     "output_type": "display_data"
    }
   ],
   "source": [
    "def plt_data(ax,x,y):\n",
    "    pos = y==1\n",
    "    neg = y==0\n",
    "    \n",
    "    ax.scatter(x[pos,0],x[pos,1],marker=\"x\",c=\"green\",label=\"y=1\")\n",
    "    ax.scatter(x[neg,0],x[neg,1],marker=\"o\",c=\"red\",label=\"y=0\")\n",
    "    ax.set_xlabel(\"X 1\")\n",
    "    ax.set_ylabel(\"X 2\")\n",
    "    ax.legend()\n",
    "\n",
    "_,ax = plt.subplots(1,1)\n",
    "plt_data(ax,x_train,y_train)\n",
    "plt.show()"
   ]
  },
  {
   "cell_type": "markdown",
   "id": "a3b6bf9b",
   "metadata": {},
   "source": [
    "### Cost Calculation Function"
   ]
  },
  {
   "cell_type": "code",
   "execution_count": 4,
   "id": "a42cc90e",
   "metadata": {},
   "outputs": [],
   "source": [
    "def sigmoid(z):\n",
    "    z = np.clip(z, -500, 500)\n",
    "    return (1/(1+np.exp(-z)))\n",
    "\n",
    "def Compute_Cost(x, y, w, b):\n",
    "    \"\"\"\n",
    "    Computes the cost over all examples\n",
    "    Args:\n",
    "      X : (ndarray Shape (m,n)) data, m examples by n features\n",
    "      y : (ndarray Shape (m,))  target value \n",
    "      w : (ndarray Shape (n,))  values of parameters of the model      \n",
    "      b : (scalar)              value of bias parameter of the model\n",
    "    Returns:\n",
    "      total_cost : (scalar) cost \n",
    "    \"\"\"\n",
    "    total_cost = 0\n",
    "    size_of_data = x.shape[0]\n",
    "    \n",
    "    for i in range(0,size_of_data):\n",
    "        \n",
    "        f_wb = sigmoid(np.dot(x[i],w)+b)\n",
    "        total_cost += -(((y[i])*(np.log(f_wb))) + ((1-y[i])*(np.log(1-f_wb))))\n",
    "        \n",
    "    total_cost = total_cost/size_of_data\n",
    "    return total_cost\n"
   ]
  },
  {
   "cell_type": "markdown",
   "id": "b69bedea",
   "metadata": {},
   "source": [
    "### Let's test the cost function "
   ]
  },
  {
   "cell_type": "code",
   "execution_count": 5,
   "id": "deade096",
   "metadata": {},
   "outputs": [
    {
     "name": "stdout",
     "output_type": "stream",
     "text": [
      "Cost at test w and b (zeros)     =  0.6931471805599458\n",
      "Cost at test w and b (non-zeros) =   0.21833019382659777\n"
     ]
    }
   ],
   "source": [
    "_,col = x_train.shape\n",
    "\n",
    "w = np.zeros(col)\n",
    "b = 0\n",
    "\n",
    "print(\"Cost at test w and b (zeros)     = \", Compute_Cost(x_train,y_train,w,b) )\n",
    "\n",
    "# Compute and display cost with non-zero w and b\n",
    "test_w = np.array([0.2, 0.2])\n",
    "test_b = -24.\n",
    "\n",
    "print('Cost at test w and b (non-zeros) =  ',Compute_Cost(x_train, y_train, test_w, test_b))\n",
    "\n",
    "# the ideal output must be\n",
    "# Cost at test w and b (zeros)     =  0.6931471805599458\n",
    "# Cost at test w and b (non-zeros) =   0.21833019382659777"
   ]
  },
  {
   "cell_type": "markdown",
   "id": "6ff5577a",
   "metadata": {},
   "source": [
    "### Differentiation calculation function "
   ]
  },
  {
   "cell_type": "code",
   "execution_count": 6,
   "id": "2547365c",
   "metadata": {},
   "outputs": [],
   "source": [
    "def Compute_Gradient(x, y, w, b):\n",
    "    \"\"\"\n",
    "    Computes the gradient for logistic regression \n",
    " ### Let's plot the data\n",
    "    Args:\n",
    "      X : (ndarray Shape (m,n)) data, m examples by n features\n",
    "      y : (ndarray Shape (m,))  target value \n",
    "      w : (ndarray Shape (n,))  values of parameters of the model      \n",
    "      b : (scalar)              value of bias parameter of the model\n",
    "      *argv : unused, for compatibility with regularized version below\n",
    "    Returns\n",
    "      dj_dw : (ndarray Shape (n,)) The gradient of the cost w.r.t. the parameters w. \n",
    "      dj_db : (scalar)             The gradient of the cost w.r.t. the parameter b. \n",
    "    \"\"\"\n",
    "    \n",
    "    row, col = x.shape\n",
    "    dj_dw = np.zeros(col)\n",
    "    dj_db = 0\n",
    "    \n",
    "    for i in range(0,row):\n",
    "        \n",
    "        f_wb = sigmoid(np.dot(w,x[i])+b)\n",
    "        error = f_wb - y[i]\n",
    "        \n",
    "        for j in range(col):\n",
    "            dj_dw[j] += error*x[i,j]\n",
    "        \n",
    "        dj_db += error\n",
    "    dj_dw = dj_dw/row\n",
    "    dj_db = dj_db/row\n",
    "    \n",
    "    return dj_dw,dj_db"
   ]
  },
  {
   "cell_type": "markdown",
   "id": "727bdd9d",
   "metadata": {},
   "source": [
    "### Let's test Compute_Gradient"
   ]
  },
  {
   "cell_type": "code",
   "execution_count": 7,
   "id": "9aaf3405",
   "metadata": {},
   "outputs": [
    {
     "name": "stdout",
     "output_type": "stream",
     "text": [
      "dj_db at test b = : -0.5999999999991071\n",
      "dj_db at test w = : [-44.831353617873795, -44.37384124953978]\n"
     ]
    }
   ],
   "source": [
    "w = np.array([0.2,-0.5])\n",
    "b=-24\n",
    "\n",
    "w,b = Compute_Gradient(x_train,y_train,w,b)\n",
    "\n",
    "print('dj_db at test b = :', b)\n",
    "print('dj_db at test w = :', w.tolist())\n",
    "\n",
    "# ideal value must be \n",
    "# dj_db at test b = : -0.5999999999991071\n",
    "# dj_db at test w = : [-44.831353617873795, -44.37384124953978]"
   ]
  },
  {
   "cell_type": "markdown",
   "id": "9200c117",
   "metadata": {},
   "source": [
    "### Gradient Descent Algorithm for choosing optimal w and b"
   ]
  },
  {
   "cell_type": "code",
   "execution_count": 22,
   "id": "9979021d",
   "metadata": {},
   "outputs": [],
   "source": [
    "def compute_Gradient_Descent(x, y, w, b, alpha, iteration):\n",
    "    \n",
    "    row,col = x.shape\n",
    "    j_history = []\n",
    "\n",
    "    for i in range(0,iteration):\n",
    "        \n",
    "        dj_dw,dj_db = Compute_Gradient(x,y,w,b)\n",
    "        \n",
    "        for j in range(col):\n",
    "            w[j] -= alpha*dj_dw[j]\n",
    "            \n",
    "        b -= alpha * dj_db\n",
    "        \n",
    "        if(i<10000):\n",
    "            j_history.append(Compute_Cost(x,y,w,b))\n",
    "            \n",
    "        if(i%1000 == 0):\n",
    "            print(f\"iteration: {i} , and cost: {j_history[-1]}\")\n",
    "            \n",
    "    return w ,b ,j_history"
   ]
  },
  {
   "cell_type": "markdown",
   "id": "51c6f4b1",
   "metadata": {},
   "source": [
    "### Running algorithm to get w and b "
   ]
  },
  {
   "cell_type": "code",
   "execution_count": 9,
   "id": "83621dfb",
   "metadata": {},
   "outputs": [
    {
     "name": "stdout",
     "output_type": "stream",
     "text": [
      "iteration: 0 , and cost: 0.963790183213751\n",
      "iteration: 1000 , and cost: 0.30509032658691543\n",
      "iteration: 2000 , and cost: 0.30472280911605265\n",
      "iteration: 3000 , and cost: 0.3043577091139877\n",
      "iteration: 4000 , and cost: 0.30399500255077394\n",
      "iteration: 5000 , and cost: 0.3036346657142008\n",
      "iteration: 6000 , and cost: 0.3032766752046074\n",
      "iteration: 7000 , and cost: 0.30292100792979143\n",
      "iteration: 8000 , and cost: 0.30256764110002177\n",
      "iteration: 9000 , and cost: 0.3022165522231424\n",
      "the final w is :  [0.07125355 0.06482888]\n",
      "the final b is :  -8.188622906639248\n"
     ]
    }
   ],
   "source": [
    "np.random.seed(1)\n",
    "### Let's plot the data\n",
    "initial_w = 0.01 * (np.random.rand(2) - 0.5)\n",
    "initial_b = -8\n",
    "\n",
    "# Some gradient descent settings\n",
    "iterations = 10000\n",
    "alpha = 0.001\n",
    "\n",
    "w,b, J_history = compute_Gradient_Descent(x_train,y_train,initial_w,initial_b,alpha,iterations)\n",
    "\n",
    "print('the final w is : ',w)\n",
    "print('the final b is : ',b)"
   ]
  },
  {
   "cell_type": "markdown",
   "id": "bf24aabd",
   "metadata": {},
   "source": [
    "### Ploting decision boundary "
   ]
  },
  {
   "cell_type": "code",
   "execution_count": 10,
   "id": "4765bc4e",
   "metadata": {},
   "outputs": [
    {
     "data": {
      "image/png": "[encoded data removed]",
      "text/plain": [
       "<Figure size 640x480 with 1 Axes>"
      ]
     },
     "metadata": {},
     "output_type": "display_data"
    }
   ],
   "source": [
    "### Let's plot the data\n",
    "plot_decision_boundary(w,b,x_train,y_train)"
   ]
  },
  {
   "cell_type": "markdown",
   "id": "108cc623",
   "metadata": {},
   "source": [
    "### Making prediction function to make predictions on new data "
   ]
  },
  {
   "cell_type": "code",
   "execution_count": 11,
   "id": "b31e52d3",
   "metadata": {},
   "outputs": [],
   "source": [
    "def pridect(x,w,b):\n",
    "    \"\"\"\n",
    "    Predict whether the label is 0 or 1 using learned logistic\n",
    "    regression parameters w\n",
    "    \n",
    "    Args:\n",
    "      X : (ndarray Shape (m,n)) data, m examples by n features\n",
    "      w : (ndarray Shape (n,))  values of parameters of the model      \n",
    "      b : (scalar)              value of bias parameter of the model\n",
    "\n",
    "    Returns:\n",
    "      p : (ndarray (m,)) The predictions for X using a threshold at 0.5\n",
    "    \"\"\"\n",
    "    Size_of_data = x.shape[0]\n",
    "    p = np.zeros(Size_of_data)\n",
    "    \n",
    "    for i in range(0,Size_of_data):\n",
    "        z = np.dot(x[i],w)+b\n",
    "        f_wb = sigmoid(z)\n",
    "        if(f_wb >= 0.5):\n",
    "            p[i]=(1)\n",
    "        else:\n",
    "            p[i]=(0)\n",
    "            \n",
    "    return p "
   ]
  },
  {
   "cell_type": "markdown",
   "id": "19438aed",
   "metadata": {},
   "source": [
    "### Testing predict Function "
   ]
  },
  {
   "cell_type": "code",
   "execution_count": 12,
   "id": "16c0a1f7",
   "metadata": {},
   "outputs": [
    {
     "name": "stdout",
     "output_type": "stream",
     "text": [
      "Output of predict: shape (4,), value [0. 1. 1. 1.]\n"
     ]
    }
   ],
   "source": [
    "np.random.seed(1)\n",
    "tmp_w = np.random.randn(2)\n",
    "tmp_b = 0.3    \n",
    "tmp_X = np.random.randn(4, 2) - 0.5\n",
    "\n",
    "tmp_p = pridect(tmp_X, tmp_w, tmp_b)\n",
    "print(f'Output of predict: shape {tmp_p.shape}, value {tmp_p}')\n"
   ]
  },
  {
   "cell_type": "markdown",
   "id": "2e0c4006",
   "metadata": {},
   "source": [
    "### Now let's use this to compute the accuracy on the training set"
   ]
  },
  {
   "cell_type": "code",
   "execution_count": 21,
   "id": "4f767337",
   "metadata": {},
   "outputs": [
    {
     "name": "stdout",
     "output_type": "stream",
     "text": [
      "92.0  %\n"
     ]
    }
   ],
   "source": [
    "p = pridect(x_train,w,b)\n",
    "# print(\"y_train = \\n\",y_train)\n",
    "# print(\"p = \\n\",p)\n",
    "efficency = np.sum(p == y_train)/len(y_train) #np.sum will count only those element who is true\n",
    "print(efficency * 100,\" %\")"
   ]
  }
 ],
 "metadata": {
  "kernelspec": {
   "display_name": "Python 3 (ipykernel)",
   "language": "python",
   "name": "python3"
  },
  "language_info": {
   "codemirror_mode": {
    "name": "ipython",
    "version": 3
   },
   "file_extension": ".py",
   "mimetype": "text/x-python",
   "name": "python",
   "nbconvert_exporter": "python",
   "pygments_lexer": "ipython3",
   "version": "3.11.4"
  }
 },
 "nbformat": 4,
 "nbformat_minor": 5
}
