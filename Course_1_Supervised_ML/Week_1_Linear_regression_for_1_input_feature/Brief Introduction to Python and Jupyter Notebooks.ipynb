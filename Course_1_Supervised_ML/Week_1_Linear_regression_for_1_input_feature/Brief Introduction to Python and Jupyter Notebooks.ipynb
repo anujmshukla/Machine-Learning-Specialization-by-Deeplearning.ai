{
 "cells": [
  {
   "cell_type": "code",
   "execution_count": 5,
   "id": "8aa550ad",
   "metadata": {},
   "outputs": [
    {
     "name": "stdout",
     "output_type": "stream",
     "text": [
      "f strings allow you to embed variables right in the strings!\n"
     ]
    }
   ],
   "source": [
    "# print statements\n",
    "variable = \"right in the strings!\"\n",
    "print(f\"f strings allow you to embed variables {variable}\")# print statements"
   ]
  },
  {
   "cell_type": "code",
   "execution_count": 2,
   "id": "1cb410be",
   "metadata": {},
   "outputs": [
    {
     "name": "stdout",
     "output_type": "stream",
     "text": [
      "helloooo world\n"
     ]
    }
   ],
   "source": [
    "print(\"helloooo world\")"
   ]
  },
  {
   "cell_type": "code",
   "execution_count": 13,
   "id": "b1cc6da6",
   "metadata": {},
   "outputs": [
    {
     "name": "stdout",
     "output_type": "stream",
     "text": [
      "200\n"
     ]
    }
   ],
   "source": [
    "x=10\n",
    "y=20\n",
    "print(x*y)"
   ]
  },
  {
   "cell_type": "code",
   "execution_count": 18,
   "id": "7c676d76",
   "metadata": {},
   "outputs": [
    {
     "name": "stdout",
     "output_type": "stream",
     "text": [
      "value of  10  divided by  20  is =  0.5\n"
     ]
    }
   ],
   "source": [
    "x=10\n",
    "y=20\n",
    "print(\"value of \",x,\" divided by \",y,\" is = \",x/y)"
   ]
  },
  {
   "cell_type": "code",
   "execution_count": null,
   "id": "18cce5a4",
   "metadata": {},
   "outputs": [],
   "source": []
  }
 ],
 "metadata": {
  "kernelspec": {
   "display_name": "Python 3 (ipykernel)",
   "language": "python",
   "name": "python3"
  },
  "language_info": {
   "codemirror_mode": {
    "name": "ipython",
    "version": 3
   },
   "file_extension": ".py",
   "mimetype": "text/x-python",
   "name": "python",
   "nbconvert_exporter": "python",
   "pygments_lexer": "ipython3",
   "version": "3.11.4"
  }
 },
 "nbformat": 4,
 "nbformat_minor": 5
}
