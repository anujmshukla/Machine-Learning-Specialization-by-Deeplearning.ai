{
 "cells": [
  {
   "cell_type": "markdown",
   "id": "f742d447",
   "metadata": {},
   "source": [
    "# <font color= \"blue\"><b>Optional Lab - Neurons and Layers<b></font>\n",
    "In this lab we will explore the inner workings of neurons/units and layers. In particular, the lab will draw parallels to the models you have mastered in Course 1, the regression/linear model and the logistic model. The lab will introduce Tensorflow and demonstrate how these models are implemented in that framework.\n"
   ]
  },
  {
   "cell_type": "markdown",
   "id": "e938e3c8",
   "metadata": {},
   "source": [
    "## Packages\n",
    "**Tensorflow and Keras**  \n",
    "Tensorflow is a machine learning package developed by Google. In 2019, Google integrated Keras into Tensorflow and released Tensorflow 2.0. Keras is a framework developed independently by François Chollet that creates a simple, layer-centric interface to Tensorflow. This course will be using the Keras interface. "
   ]
  },
  {
   "cell_type": "code",
   "execution_count": 1,
   "id": "de1977d0",
   "metadata": {},
   "outputs": [
    {
     "name": "stdout",
     "output_type": "stream",
     "text": [
      "Run Sucessfully\n"
     ]
    }
   ],
   "source": [
    "import numpy as np\n",
    "import matplotlib.pyplot as plt\n",
    "\n",
    "import tensorflow as tf\n",
    "from tensorflow.keras.layers import Dense, Input\n",
    "from tensorflow.keras import Sequential\n",
    "from tensorflow.keras.losses import MeanSquaredError, BinaryCrossentropy\n",
    "from tensorflow.keras.activations import sigmoid\n",
    "\n",
    "import sys\n",
    "sys.path.append(\"Materials_By_Deeplearning/\")\n",
    "from lab_utils_common import dlc\n",
    "from lab_neurons_utils import plt_prob_1d, sigmoidnp, plt_linear, plt_logistic\n",
    "plt.style.use('./Materials_By_Deeplearning/deeplearning.mplstyle')\n",
    "\n",
    "import logging\n",
    "logging.getLogger(\"tensorflow\").setLevel(logging.ERROR)\n",
    "tf.autograph.set_verbosity(0)\n",
    "\n",
    "print(\"Run Sucessfully\")"
   ]
  },
  {
   "cell_type": "markdown",
   "id": "ede59b2f",
   "metadata": {},
   "source": [
    "### <font color=\"red\"> Regression/Linear Model </font> \n",
    "The function implemented by a neuron with no activation is the same as in Course 1, linear regression:\n",
    "$$ f_{\\mathbf{w},b}(x^{(i)}) = \\mathbf{w}\\cdot x^{(i)} + b \\tag{1}$$\n",
    "\n"
   ]
  },
  {
   "cell_type": "code",
   "execution_count": 2,
   "id": "aed676dc",
   "metadata": {},
   "outputs": [
    {
     "data": {
      "image/png": "[encoded data removed]",
      "text/plain": [
       "<Figure size 640x480 with 1 Axes>"
      ]
     },
     "metadata": {},
     "output_type": "display_data"
    }
   ],
   "source": [
    "x_train = np.array([[1.0],[2.0]])      #(size in 1000 square feet)\n",
    "y_train = np.array([[300.0], [500.0]])       #(price in 1000s of dollars)\n",
    "\n",
    "plt.scatter(x_train, y_train, marker='o', label=\"Data Points\")\n",
    "plt.title('Data Base')\n",
    "plt.xlabel('size in 1000 square feet')\n",
    "plt.ylabel('price in 1000s of dollars')\n",
    "plt.legend()\n",
    "plt.plot()\n",
    "plt.show()"
   ]
  },
  {
   "cell_type": "markdown",
   "id": "90018e64",
   "metadata": {},
   "source": [
    "We can define a layer with one neuron or unit and compare it to the familiar linear regression function."
   ]
  },
  {
   "cell_type": "code",
   "execution_count": 3,
   "id": "e3bac033",
   "metadata": {},
   "outputs": [],
   "source": [
    "linear_layer = tf.keras.layers.Dense( units=1, activation='linear') "
   ]
  },
  {
   "cell_type": "markdown",
   "id": "fccb13c5",
   "metadata": {},
   "source": [
    "Let's examine the weights."
   ]
  },
  {
   "cell_type": "code",
   "execution_count": 4,
   "id": "f609306e",
   "metadata": {},
   "outputs": [
    {
     "data": {
      "text/plain": [
       "[]"
      ]
     },
     "execution_count": 4,
     "metadata": {},
     "output_type": "execute_result"
    }
   ],
   "source": [
    "linear_layer.get_weights()"
   ]
  },
  {
   "cell_type": "markdown",
   "id": "616ee691",
   "metadata": {},
   "source": [
    "There are no weights as the weights are not yet instantiated. Let's try the model on one example in `X_train`. This will trigger the instantiation of the weights. Note, the input to the layer must be 2-D, so we'll reshape it.\n",
    "\n",
    "\n",
    "**Below given code explanation**\n",
    "\n",
    "`X_train`: It seems that X_train is a data array or tensor used for training a machine learning model.\n",
    "\n",
    "`X_train[0]`: This extracts the first element from the X_train array.\n",
    "\n",
    "`.reshape(1, 1)`: The reshape method is used to change the shape of the array. In this case, it is reshaping the first element of X_train into a 1x1 matrix (2D array) because the linear_layer expects a 2D input. This step is likely required if the original shape of X_train[0] was a 1D array or scalar.\n",
    "\n",
    "`linear_layer`: This is the previously defined linear layer using TensorFlow's Keras library, as mentioned in the previous code snippet.\n",
    "\n",
    "`linear_layer(X_train[0].reshape(1, 1))`: This line applies the linear_layer to the reshaped input X_train[0].reshape(1, 1). It passes this 1x1 input to the layer, and the layer computes its output.\n",
    "\n",
    "In summary, the code computes the output of the `linear_layer` for the first element of X_train after reshaping it into a 1x1 matrix and stores the result in the variable a1. This is typically part of the forward pass in a neural network, where the input data flows through the layers to produce predictions or activations."
   ]
  },
  {
   "cell_type": "code",
   "execution_count": 5,
   "id": "3ab0aff3",
   "metadata": {},
   "outputs": [
    {
     "name": "stdout",
     "output_type": "stream",
     "text": [
      "[[1.]]\n",
      "tf.Tensor([[-0.06]], shape=(1, 1), dtype=float32)\n"
     ]
    }
   ],
   "source": [
    "print(x_train[0].reshape(1,1))\n",
    "a1 = linear_layer(x_train[0].reshape(1,1))\n",
    "print (a1)"
   ]
  },
  {
   "cell_type": "code",
   "execution_count": 6,
   "id": "142d593f",
   "metadata": {},
   "outputs": [
    {
     "name": "stdout",
     "output_type": "stream",
     "text": [
      "w = [[-0.06]], b= [0.]\n"
     ]
    }
   ],
   "source": [
    "w , b = linear_layer.get_weights()\n",
    "print(f\"w = {w}, b= {b}\")\n",
    "\n",
    "# in this every time you run this cell by restarting kernal it will give diffrent value of w and b because it initilize\n",
    "# w and b with random values "
   ]
  },
  {
   "cell_type": "markdown",
   "id": "3c101516",
   "metadata": {},
   "source": [
    "A linear regression model (1) with a single input feature will have a single weight and bias. This matches the dimensions of our `linear_layer` above.   \n",
    "\n",
    "The weights are initialized to random values so let's set them to some known values."
   ]
  },
  {
   "cell_type": "code",
   "execution_count": 7,
   "id": "ea71e1db",
   "metadata": {},
   "outputs": [
    {
     "name": "stdout",
     "output_type": "stream",
     "text": [
      "[array([[200.]], dtype=float32), array([100.], dtype=float32)]\n"
     ]
    }
   ],
   "source": [
    "# Setting up the initial parameters ie w and b which We generally set it by gradient descent in traditional ML \n",
    "set_w = np.array([[200]])\n",
    "set_b = np.array([100])\n",
    "\n",
    "#setting the weights (parameters)\n",
    "linear_layer.set_weights([ set_w,set_b])\n",
    "print(linear_layer.get_weights())"
   ]
  },
  {
   "cell_type": "code",
   "execution_count": 8,
   "id": "0328e6d1",
   "metadata": {},
   "outputs": [
    {
     "name": "stdout",
     "output_type": "stream",
     "text": [
      "tf.Tensor([[300.]], shape=(1, 1), dtype=float32)\n",
      "[[300.]]\n"
     ]
    }
   ],
   "source": [
    "#lets pridect the frist test case with neural network\n",
    "a1 = linear_layer(x_train[0].reshape(1,1))\n",
    "print(a1)\n",
    "\n",
    "#lets pridect the frist test case with normal dot operation \n",
    "aline = np.dot(set_w,x_train[0].reshape(1,1)) + set_b\n",
    "print(aline)\n",
    "\n",
    "# hence we can notice that both value are same and now  "
   ]
  },
  {
   "cell_type": "markdown",
   "id": "82e36fef",
   "metadata": {},
   "source": [
    "They produce the same values!\n",
    "Now, we can use our linear layer to make predictions on our training data."
   ]
  },
  {
   "cell_type": "code",
   "execution_count": 9,
   "id": "b4368cbf",
   "metadata": {},
   "outputs": [
    {
     "name": "stdout",
     "output_type": "stream",
     "text": [
      "predict_by_tf\n",
      " tf.Tensor(\n",
      "[[300.]\n",
      " [500.]], shape=(2, 1), dtype=float32)\n",
      "\n",
      " predict_by_manual \n",
      " [[300.]\n",
      " [500.]]\n"
     ]
    }
   ],
   "source": [
    "\n",
    "predict_by_tf = linear_layer(x_train)\n",
    "predict_by_manual = np.dot(x_train,set_w) + set_b\n",
    "\n",
    "print(\"predict_by_tf\\n\",predict_by_tf)\n",
    "print(\"\\n predict_by_manual \\n\",predict_by_manual)\n",
    "\n",
    "# hence heare we call see that values are same because ge gave same input of w and b to the TF and Linear Regression "
   ]
  },
  {
   "cell_type": "code",
   "execution_count": 10,
   "id": "055881d7",
   "metadata": {},
   "outputs": [
    {
     "data": {
      "text/plain": [
       "<function matplotlib.pyplot.show(close=None, block=None)>"
      ]
     },
     "execution_count": 10,
     "metadata": {},
     "output_type": "execute_result"
    },
    {
     "data": {
      "image/png": "[encoded data removed]",
      "text/plain": [
       "<Figure size 1600x500 with 2 Axes>"
      ]
     },
     "metadata": {},
     "output_type": "display_data"
    }
   ],
   "source": [
    "# Now lets plot the graph\n",
    "\n",
    "_,ax = plt.subplots(1,2,  figsize=(16,5))\n",
    "ax[0].scatter(x_train,y_train, marker='x',label=\"Datapoints\", c=\"red\")\n",
    "ax[0].plot(x_train,predict_by_tf,c=\"blue\",label=\"TF Model\")\n",
    "ax[0].legend()\n",
    "ax[0].set_ylabel(\"price in 1000s of dollars\")\n",
    "ax[0].set_xlabel(\"Size in 1000 sqf\")\n",
    "ax[0].set_title(\"TenserFlow Pridection\")\n",
    "\n",
    "ax[1].scatter(x_train,y_train, marker='x',label=\"Datapoints\", c=\"red\")\n",
    "ax[1].plot(x_train,predict_by_manual,c=\"blue\",label=\"Linear Model\")\n",
    "ax[1].set_ylabel(\"price in 1000s of dollars\")\n",
    "ax[1].set_xlabel(\"Size in 1000 sqf\")\n",
    "ax[1].legend()\n",
    "ax[1].set_title(\"Linear Regression Pridection\")\n",
    "\n",
    "plt.show\n"
   ]
  },
  {
   "cell_type": "markdown",
   "id": "cd0c6a4d",
   "metadata": {},
   "source": [
    "## <font color=\"red\"> Neuron with Sigmoid activation </font>\n",
    " The function implemented by a neuron/unit with a sigmoid activation is the same as in Course 1, logistic  regression:\n",
    "$$ f_{\\mathbf{w},b}(x^{(i)}) = g(\\mathbf{w}x^{(i)} + b) \\tag{2}$$\n",
    "where $$g(x) = sigmoid(x)$$ \n",
    "\n",
    "Let's set $w$ and $b$ to some known values and check the model.\n"
   ]
  },
  {
   "cell_type": "code",
   "execution_count": 11,
   "id": "07591b52",
   "metadata": {},
   "outputs": [
    {
     "name": "stdout",
     "output_type": "stream",
     "text": [
      "x_train [0 1 2 3 4 5] , y_train [0 0 0 1 1 1]\n",
      "x_train [[0]\n",
      " [1]\n",
      " [2]\n",
      " [3]\n",
      " [4]\n",
      " [5]] ,\n",
      "y_train [[0]\n",
      " [0]\n",
      " [0]\n",
      " [1]\n",
      " [1]\n",
      " [1]]\n"
     ]
    }
   ],
   "source": [
    "x_train = np.array([0,1,2,3,4,5])\n",
    "y_train = np.array([0,0,0,1,1,1])\n",
    "\n",
    "print(\"x_train\",x_train, \", y_train\", y_train )\n",
    "x_train=x_train.reshape(-1,1)\n",
    "y_train=y_train.reshape(-1,1)\n",
    "print(\"x_train\",x_train, \",\\ny_train\", y_train )"
   ]
  },
  {
   "cell_type": "code",
   "execution_count": 12,
   "id": "b033b0b0",
   "metadata": {},
   "outputs": [
    {
     "name": "stdout",
     "output_type": "stream",
     "text": [
      "x_train[pos] =  [3 4 5]\n",
      "x_train[neg] =  [0 1 2]\n"
     ]
    }
   ],
   "source": [
    "pos = y_train == 1\n",
    "neg = y_train == 0\n",
    "\n",
    "print(\"x_train[pos] = \",x_train[pos])\n",
    "print(\"x_train[neg] = \",x_train[neg])"
   ]
  },
  {
   "cell_type": "code",
   "execution_count": 14,
   "id": "9a7f50ea",
   "metadata": {},
   "outputs": [
    {
     "data": {
      "image/png": "[encoded data removed]",
      "text/plain": [
       "<Figure size 400x300 with 1 Axes>"
      ]
     },
     "metadata": {},
     "output_type": "display_data"
    }
   ],
   "source": [
    "fig,ax = plt.subplots(1,1,figsize=(4,3))\n",
    "ax.scatter(x_train[pos], y_train[pos], marker='x', s=80, c = 'red', label=\"y=1\")\n",
    "ax.scatter(x_train[neg], y_train[neg], marker='o', s=100, label=\"y=0\", c=\"blue\")\n",
    "\n",
    "ax.set_ylabel('y', fontsize=12)\n",
    "ax.set_xlabel('x', fontsize=12)\n",
    "ax.set_title('one variable plot')\n",
    "ax.legend(fontsize=12)\n",
    "plt.show()"
   ]
  },
  {
   "cell_type": "markdown",
   "id": "9137b3f8",
   "metadata": {},
   "source": [
    "### Logistic Neuron\n",
    "We can implement a 'logistic neuron' by adding a sigmoid activation. The function of the neuron is then described by (2) above.   \n",
    "This section will create a Tensorflow Model that contains our logistic layer to demonstrate an alternate method of creating models. Tensorflow is most often used to create multi-layer models. The [Sequential](https://keras.io/guides/sequential_model/) model is a convenient means of constructing these models."
   ]
  },
  {
   "cell_type": "code",
   "execution_count": 15,
   "id": "a1065ef0",
   "metadata": {},
   "outputs": [],
   "source": [
    "model = Sequential(\n",
    "    [\n",
    "        tf.keras.layers.Dense(units=1, input_dim = 1,  activation = \"sigmoid\", name=\"L1\")\n",
    "    ]\n",
    ")"
   ]
  },
  {
   "cell_type": "markdown",
   "id": "bc3e3360",
   "metadata": {},
   "source": [
    "`model.summary()` shows the layers and number of parameters in the model. There is only one layer in this model and that layer has only one unit. The unit has two parameters, $w$ and $b$."
   ]
  },
  {
   "cell_type": "code",
   "execution_count": 16,
   "id": "940b45e8",
   "metadata": {},
   "outputs": [
    {
     "name": "stdout",
     "output_type": "stream",
     "text": [
      "Model: \"sequential\"\n",
      "_________________________________________________________________\n",
      " Layer (type)                Output Shape              Param #   \n",
      "=================================================================\n",
      " L1 (Dense)                  (None, 1)                 2         \n",
      "                                                                 \n",
      "=================================================================\n",
      "Total params: 2 (8.00 Byte)\n",
      "Trainable params: 2 (8.00 Byte)\n",
      "Non-trainable params: 0 (0.00 Byte)\n",
      "_________________________________________________________________\n"
     ]
    }
   ],
   "source": [
    "model.summary()"
   ]
  },
  {
   "cell_type": "code",
   "execution_count": 17,
   "id": "8812a36b",
   "metadata": {},
   "outputs": [
    {
     "name": "stdout",
     "output_type": "stream",
     "text": [
      "[array([[1.4]], dtype=float32), array([0.], dtype=float32)]\n"
     ]
    }
   ],
   "source": [
    "logistic_layer = model.get_layer('L1')\n",
    "print(logistic_layer.get_weights())\n",
    "# heare we will get the random value of w and b respectively"
   ]
  },
  {
   "cell_type": "code",
   "execution_count": 30,
   "id": "e980e104",
   "metadata": {},
   "outputs": [
    {
     "name": "stdout",
     "output_type": "stream",
     "text": [
      "[array([[2.]], dtype=float32), array([-4.5], dtype=float32)]\n"
     ]
    }
   ],
   "source": [
    "# setting the parameters of the tf model\n",
    "set_w = np.array([[2]])\n",
    "set_b = np.array([-4.5])\n",
    "\n",
    "logistic_layer.set_weights([set_w,set_b])\n",
    "print(logistic_layer.get_weights())"
   ]
  },
  {
   "cell_type": "code",
   "execution_count": 31,
   "id": "943452e6",
   "metadata": {},
   "outputs": [],
   "source": [
    "# making the sigmoid function \n",
    "def sigmoid(z):\n",
    "    return (1/(1+np.exp(-z)))"
   ]
  },
  {
   "cell_type": "code",
   "execution_count": 35,
   "id": "03cb9984",
   "metadata": {},
   "outputs": [
    {
     "name": "stdout",
     "output_type": "stream",
     "text": [
      "1/1 [==============================] - 0s 23ms/step\n",
      "Tenser Flow Pridection :  [[0.01]]\n",
      "Pridection by logistic Regression :  [[0.01]]\n"
     ]
    }
   ],
   "source": [
    "# Now let's compare the tensor flow and the traditional logistic regression \n",
    "TF_Pri = model.predict(x_train[0].reshape(-1,1))\n",
    "print(\"Tenser Flow Pridection : \",TF_Pri)\n",
    "\n",
    "x = x_train[0]\n",
    "Log_Reg = sigmoid( np.dot(x,set_w)+set_b)\n",
    "print(\"Pridection by logistic Regression : \",TF_Pri)\n",
    "\n",
    "# hence we can notice that both value are same "
   ]
  }
 ],
 "metadata": {
  "kernelspec": {
   "display_name": "Python 3 (ipykernel)",
   "language": "python",
   "name": "python3"
  },
  "language_info": {
   "codemirror_mode": {
    "name": "ipython",
    "version": 3
   },
   "file_extension": ".py",
   "mimetype": "text/x-python",
   "name": "python",
   "nbconvert_exporter": "python",
   "pygments_lexer": "ipython3",
   "version": "3.11.4"
  }
 },
 "nbformat": 4,
 "nbformat_minor": 5
}
